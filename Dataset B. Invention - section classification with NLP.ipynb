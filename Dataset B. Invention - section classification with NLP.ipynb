{
 "cells": [
  {
   "cell_type": "code",
   "id": "initial_id",
   "metadata": {
    "collapsed": true,
    "ExecuteTime": {
     "end_time": "2024-12-18T00:04:32.379298Z",
     "start_time": "2024-12-18T00:04:32.368328Z"
    }
   },
   "source": [
    "import pandas as pd\n",
    "import numpy as np\n",
    "import csv\n",
    "\n",
    "import torch\n",
    "from datasets import Dataset\n",
    "\n",
    "from torch.utils.data import DataLoader, TensorDataset\n",
    "from transformers import BertForSequenceClassification, BertTokenizer, AdamW\n",
    "from sklearn.model_selection import train_test_split\n",
    "from torch.optim.lr_scheduler import StepLR\n",
    "from sklearn.utils.class_weight import compute_class_weight\n",
    "\n",
    "\n",
    "\n"
   ],
   "outputs": [],
   "execution_count": 240
  },
  {
   "metadata": {
    "ExecuteTime": {
     "end_time": "2024-12-18T00:03:01.792002Z",
     "start_time": "2024-12-18T00:03:01.782004Z"
    }
   },
   "cell_type": "code",
   "source": [
    "# Load data directly from URL (or else download it manually from patentsview.org)\n",
    "#df_abst = get_stripped_data(\"https://s3.amazonaws.com/data.patentsview.org/download/g_patent_abstract.tsv.zip\")\n",
    "#df_labels = get_stripped_data(\"https://s3.amazonaws.com/data.patentsview.org/download/g_ipc_at_issue.tsv.zip\")\n"
   ],
   "id": "4c1d0a8e31733998",
   "outputs": [],
   "execution_count": 236
  },
  {
   "metadata": {
    "ExecuteTime": {
     "end_time": "2024-12-18T00:04:37.390404Z",
     "start_time": "2024-12-18T00:04:37.379434Z"
    }
   },
   "cell_type": "code",
   "source": [
    "def get_stripped_data(filename):\n",
    "    data_file = pd.read_csv(\n",
    "        filename,\n",
    "        delimiter=\"\\t\",\n",
    "        dtype=str,  # Use `dtype=str` to avoid erroneous type inference, e.g. reading `patent_id` as a number rather than a string.\n",
    "        quoting=csv.QUOTE_NONE,\n",
    "    )\n",
    "\n",
    "    # Apply the strip function to each column of the DataFrame to strip the quotes\n",
    "    data_file = data_file.apply(lambda col: col.map(lambda x: x.strip('\"') if isinstance(x, str) else x))\n",
    "\n",
    "    # Strips the column names of quotes\n",
    "    data_file.columns = data_file.columns.str.strip('\"')\n",
    "\n",
    "    print(f\"{filename} loaded and returned stripped of quotations\")\n",
    "\n",
    "    return data_file\n"
   ],
   "id": "2bf21c68619794fb",
   "outputs": [],
   "execution_count": 241
  },
  {
   "metadata": {
    "ExecuteTime": {
     "end_time": "2024-12-18T00:03:02.118554Z",
     "start_time": "2024-12-18T00:03:02.107815Z"
    }
   },
   "cell_type": "code",
   "source": [
    "# Function to return all column names one by one\n",
    "def all_columns(df_name):\n",
    "    for i in df_name.columns:\n",
    "        print(i)"
   ],
   "id": "4afa351a9655e0c",
   "outputs": [],
   "execution_count": 238
  },
  {
   "metadata": {
    "ExecuteTime": {
     "end_time": "2024-12-18T00:19:16.302767Z",
     "start_time": "2024-12-18T00:11:49.998035Z"
    }
   },
   "cell_type": "code",
   "source": [
    "# load and strip the file g_patent_abstract.tsv \n",
    "\n",
    "df1 = get_stripped_data(\"g_patent_abstract.tsv\")\n",
    "# Remove rows where the 'text' column is empty or contains only whitespace\n",
    "df1 = df1[df1['patent_abstract'].str.strip() != '']\n",
    "all_columns(df1)"
   ],
   "id": "c1f727903bffaabd",
   "outputs": [
    {
     "name": "stdout",
     "output_type": "stream",
     "text": [
      "g_patent_abstract.tsv loaded and returned stripped of quotations\n",
      "patent_id\n",
      "patent_abstract\n"
     ]
    }
   ],
   "execution_count": 243
  },
  {
   "metadata": {
    "ExecuteTime": {
     "end_time": "2024-12-18T00:11:48.960271Z",
     "start_time": "2024-12-18T00:04:40.107835Z"
    }
   },
   "cell_type": "code",
   "source": [
    "# load and strip the file g_ipc_at_issue.tsv \n",
    "df2 = get_stripped_data(\"g_ipc_at_issue.tsv\")\n",
    "all_columns(df2)"
   ],
   "id": "ad36f7f43d83a918",
   "outputs": [
    {
     "name": "stdout",
     "output_type": "stream",
     "text": [
      "g_ipc_at_issue.tsv loaded and returned stripped of quotations\n",
      "patent_id\n",
      "ipc_sequence\n",
      "classification_level\n",
      "section\n",
      "ipc_class\n",
      "subclass\n",
      "main_group\n",
      "subgroup\n",
      "classification_value\n",
      "classification_status\n",
      "classification_data_source\n",
      "action_date\n",
      "ipc_version_indicator\n"
     ]
    }
   ],
   "execution_count": 242
  },
  {
   "metadata": {
    "ExecuteTime": {
     "end_time": "2024-12-18T00:19:16.533612Z",
     "start_time": "2024-12-18T00:19:16.464053Z"
    }
   },
   "cell_type": "code",
   "source": "# print(df1.iloc[4495751])    # to look at specific patent",
   "id": "1771f3912d3204c8",
   "outputs": [],
   "execution_count": 244
  },
  {
   "metadata": {},
   "cell_type": "markdown",
   "source": [
    "## IPC section classes  \n",
    "  * A = Human Necessitates  \n",
    "   * B = Performing Operations, Transporting  \n",
    "   * C = Chemistry; Metallurgy  \n",
    "  * D = Textiles; Paper  \n",
    "  * E = Fixed Constructions  \n",
    "  * F = Mechanical Engineering; Lighting; Heating; Weapons; Blasting  \n",
    "  * G = Physics  \n",
    "  * H = Electricity\n",
    "\n",
    " The Classification represents the whole body of knowledge which may be regarded as\n",
    "proper to the field of patents for invention, divided into eight sections. Sections are the highest\n",
    "level of hierarchy of the Classification."
   ],
   "id": "11b34cd6fdbb22"
  },
  {
   "metadata": {
    "ExecuteTime": {
     "end_time": "2024-12-18T00:21:04.420513Z",
     "start_time": "2024-12-18T00:19:16.906923Z"
    }
   },
   "cell_type": "code",
   "source": [
    "# select the two columns \"patent_id\" and \"section\"\n",
    "df2 = df2[[\"patent_id\", \"section\"]]\n",
    "df2.info()"
   ],
   "id": "c10c10246bab01b1",
   "outputs": [
    {
     "name": "stdout",
     "output_type": "stream",
     "text": [
      "<class 'pandas.core.frame.DataFrame'>\n",
      "RangeIndex: 23761485 entries, 0 to 23761484\n",
      "Data columns (total 2 columns):\n",
      " #   Column     Dtype \n",
      "---  ------     ----- \n",
      " 0   patent_id  object\n",
      " 1   section    object\n",
      "dtypes: object(2)\n",
      "memory usage: 362.6+ MB\n"
     ]
    }
   ],
   "execution_count": 245
  },
  {
   "metadata": {
    "ExecuteTime": {
     "end_time": "2024-12-18T00:21:05.260388Z",
     "start_time": "2024-12-18T00:21:05.045986Z"
    }
   },
   "cell_type": "code",
   "source": "df1.head(50)",
   "id": "b8bc3f2387b7c40a",
   "outputs": [
    {
     "data": {
      "text/plain": [
       "   patent_id                                    patent_abstract\n",
       "0   10000000  A frequency modulated (coherent) laser detecti...\n",
       "1   10000001  The injection molding machine includes a fixed...\n",
       "2   10000002  The present invention relates to: a method for...\n",
       "3   10000003  The invention relates to a method for producin...\n",
       "4   10000004  The present invention relates to provides a do...\n",
       "5   10000005  A vacuum forming apparatus is provided that fo...\n",
       "6   10000006  A thermoforming mold device (1) providing a pi...\n",
       "7   10000007  An expanding tool comprising: an actuator comp...\n",
       "8   10000008  A decorated strip of coated, heat-shrinkable, ...\n",
       "9   10000009  In sterile, additive manufacturing wherein one...\n",
       "10  10000010  3-D printing system include development statio...\n",
       "11  10000011  To reduce distortion in an additively manufact...\n",
       "12  10000014  The present invention relates to a process for...\n",
       "13  10000015  A hermetically sealed optical component includ...\n",
       "14  10000016  A film edge sealing device is disclosed herein...\n",
       "15  10000017  The invention relates to a method for securing...\n",
       "16  10000018  A stretch release adhesive is disclosed. The s...\n",
       "17  10000019  An installation assembly and an associated met...\n",
       "18  10000020  A three-dimensional object printer enables for...\n",
       "19  10000021  There is provided a method for manufacturing a...\n",
       "20  10000022  A process for manufacturing a three-dimensiona...\n",
       "21  10000023  An apparatus and method for making a three-dim...\n",
       "22  10000024  An apparatus for controlling 3D printing inclu...\n",
       "23  10000025  A composite laminate has a primary axis of loa...\n",
       "24  10000026  A composite induction consolidation apparatus ...\n",
       "25  10000027  A plant for reshaping plastic preforms into pl...\n",
       "26  10000028  A method of making a mechanical fastening net....\n",
       "27  10000029  A method of manufacturing a power transmission...\n",
       "28  10000030  A tire mold has a tire molding surface. The ti...\n",
       "29  10000031  A method of manufacturing a honeycomb structur...\n",
       "30  10000032  A method and a press are proposed for an energ...\n",
       "31  10000033  Disclosed are embodiments of a versatile stora...\n",
       "32  10000034  The present patent application discloses an en...\n",
       "33  10000035  A hose assembly, preferably a garden hose asse...\n",
       "34  10000036  Boron nitride nanotubes (BNNTs), boron nitride...\n",
       "35  10000037  The purpose of the present invention is to pre...\n",
       "36  10000038  Provided is an alloy plate coated material inc...\n",
       "37  10000039  A multilayer interlayer structure having a low...\n",
       "38  10000040  Floor panel of the type substantially consisti...\n",
       "39  10000041  A method for making a decorative multilaminar ...\n",
       "40  10000042  The current disclosure relates to a polymeric ...\n",
       "41  10000043  Multilayer film comprising two thin layers D a...\n",
       "42  10000044  Panel, particularly a panel used for making fu...\n",
       "43  10000045  A multilayered tube for transporting fuel incl...\n",
       "44  10000046  Methods of creating thick composite structures...\n",
       "45  10000047  The present invention provides a method for ma...\n",
       "46  10000048  A taping apparatus includes an elongate body p...\n",
       "47  10000049  An applicator die for creating and applying la...\n",
       "48  10000050  A method for the manufacture of a fiber compos...\n",
       "49  10000051  A method of manufacturing a three-dimensional ..."
      ],
      "text/html": [
       "<div>\n",
       "<style scoped>\n",
       "    .dataframe tbody tr th:only-of-type {\n",
       "        vertical-align: middle;\n",
       "    }\n",
       "\n",
       "    .dataframe tbody tr th {\n",
       "        vertical-align: top;\n",
       "    }\n",
       "\n",
       "    .dataframe thead th {\n",
       "        text-align: right;\n",
       "    }\n",
       "</style>\n",
       "<table border=\"1\" class=\"dataframe\">\n",
       "  <thead>\n",
       "    <tr style=\"text-align: right;\">\n",
       "      <th></th>\n",
       "      <th>patent_id</th>\n",
       "      <th>patent_abstract</th>\n",
       "    </tr>\n",
       "  </thead>\n",
       "  <tbody>\n",
       "    <tr>\n",
       "      <th>0</th>\n",
       "      <td>10000000</td>\n",
       "      <td>A frequency modulated (coherent) laser detecti...</td>\n",
       "    </tr>\n",
       "    <tr>\n",
       "      <th>1</th>\n",
       "      <td>10000001</td>\n",
       "      <td>The injection molding machine includes a fixed...</td>\n",
       "    </tr>\n",
       "    <tr>\n",
       "      <th>2</th>\n",
       "      <td>10000002</td>\n",
       "      <td>The present invention relates to: a method for...</td>\n",
       "    </tr>\n",
       "    <tr>\n",
       "      <th>3</th>\n",
       "      <td>10000003</td>\n",
       "      <td>The invention relates to a method for producin...</td>\n",
       "    </tr>\n",
       "    <tr>\n",
       "      <th>4</th>\n",
       "      <td>10000004</td>\n",
       "      <td>The present invention relates to provides a do...</td>\n",
       "    </tr>\n",
       "    <tr>\n",
       "      <th>5</th>\n",
       "      <td>10000005</td>\n",
       "      <td>A vacuum forming apparatus is provided that fo...</td>\n",
       "    </tr>\n",
       "    <tr>\n",
       "      <th>6</th>\n",
       "      <td>10000006</td>\n",
       "      <td>A thermoforming mold device (1) providing a pi...</td>\n",
       "    </tr>\n",
       "    <tr>\n",
       "      <th>7</th>\n",
       "      <td>10000007</td>\n",
       "      <td>An expanding tool comprising: an actuator comp...</td>\n",
       "    </tr>\n",
       "    <tr>\n",
       "      <th>8</th>\n",
       "      <td>10000008</td>\n",
       "      <td>A decorated strip of coated, heat-shrinkable, ...</td>\n",
       "    </tr>\n",
       "    <tr>\n",
       "      <th>9</th>\n",
       "      <td>10000009</td>\n",
       "      <td>In sterile, additive manufacturing wherein one...</td>\n",
       "    </tr>\n",
       "    <tr>\n",
       "      <th>10</th>\n",
       "      <td>10000010</td>\n",
       "      <td>3-D printing system include development statio...</td>\n",
       "    </tr>\n",
       "    <tr>\n",
       "      <th>11</th>\n",
       "      <td>10000011</td>\n",
       "      <td>To reduce distortion in an additively manufact...</td>\n",
       "    </tr>\n",
       "    <tr>\n",
       "      <th>12</th>\n",
       "      <td>10000014</td>\n",
       "      <td>The present invention relates to a process for...</td>\n",
       "    </tr>\n",
       "    <tr>\n",
       "      <th>13</th>\n",
       "      <td>10000015</td>\n",
       "      <td>A hermetically sealed optical component includ...</td>\n",
       "    </tr>\n",
       "    <tr>\n",
       "      <th>14</th>\n",
       "      <td>10000016</td>\n",
       "      <td>A film edge sealing device is disclosed herein...</td>\n",
       "    </tr>\n",
       "    <tr>\n",
       "      <th>15</th>\n",
       "      <td>10000017</td>\n",
       "      <td>The invention relates to a method for securing...</td>\n",
       "    </tr>\n",
       "    <tr>\n",
       "      <th>16</th>\n",
       "      <td>10000018</td>\n",
       "      <td>A stretch release adhesive is disclosed. The s...</td>\n",
       "    </tr>\n",
       "    <tr>\n",
       "      <th>17</th>\n",
       "      <td>10000019</td>\n",
       "      <td>An installation assembly and an associated met...</td>\n",
       "    </tr>\n",
       "    <tr>\n",
       "      <th>18</th>\n",
       "      <td>10000020</td>\n",
       "      <td>A three-dimensional object printer enables for...</td>\n",
       "    </tr>\n",
       "    <tr>\n",
       "      <th>19</th>\n",
       "      <td>10000021</td>\n",
       "      <td>There is provided a method for manufacturing a...</td>\n",
       "    </tr>\n",
       "    <tr>\n",
       "      <th>20</th>\n",
       "      <td>10000022</td>\n",
       "      <td>A process for manufacturing a three-dimensiona...</td>\n",
       "    </tr>\n",
       "    <tr>\n",
       "      <th>21</th>\n",
       "      <td>10000023</td>\n",
       "      <td>An apparatus and method for making a three-dim...</td>\n",
       "    </tr>\n",
       "    <tr>\n",
       "      <th>22</th>\n",
       "      <td>10000024</td>\n",
       "      <td>An apparatus for controlling 3D printing inclu...</td>\n",
       "    </tr>\n",
       "    <tr>\n",
       "      <th>23</th>\n",
       "      <td>10000025</td>\n",
       "      <td>A composite laminate has a primary axis of loa...</td>\n",
       "    </tr>\n",
       "    <tr>\n",
       "      <th>24</th>\n",
       "      <td>10000026</td>\n",
       "      <td>A composite induction consolidation apparatus ...</td>\n",
       "    </tr>\n",
       "    <tr>\n",
       "      <th>25</th>\n",
       "      <td>10000027</td>\n",
       "      <td>A plant for reshaping plastic preforms into pl...</td>\n",
       "    </tr>\n",
       "    <tr>\n",
       "      <th>26</th>\n",
       "      <td>10000028</td>\n",
       "      <td>A method of making a mechanical fastening net....</td>\n",
       "    </tr>\n",
       "    <tr>\n",
       "      <th>27</th>\n",
       "      <td>10000029</td>\n",
       "      <td>A method of manufacturing a power transmission...</td>\n",
       "    </tr>\n",
       "    <tr>\n",
       "      <th>28</th>\n",
       "      <td>10000030</td>\n",
       "      <td>A tire mold has a tire molding surface. The ti...</td>\n",
       "    </tr>\n",
       "    <tr>\n",
       "      <th>29</th>\n",
       "      <td>10000031</td>\n",
       "      <td>A method of manufacturing a honeycomb structur...</td>\n",
       "    </tr>\n",
       "    <tr>\n",
       "      <th>30</th>\n",
       "      <td>10000032</td>\n",
       "      <td>A method and a press are proposed for an energ...</td>\n",
       "    </tr>\n",
       "    <tr>\n",
       "      <th>31</th>\n",
       "      <td>10000033</td>\n",
       "      <td>Disclosed are embodiments of a versatile stora...</td>\n",
       "    </tr>\n",
       "    <tr>\n",
       "      <th>32</th>\n",
       "      <td>10000034</td>\n",
       "      <td>The present patent application discloses an en...</td>\n",
       "    </tr>\n",
       "    <tr>\n",
       "      <th>33</th>\n",
       "      <td>10000035</td>\n",
       "      <td>A hose assembly, preferably a garden hose asse...</td>\n",
       "    </tr>\n",
       "    <tr>\n",
       "      <th>34</th>\n",
       "      <td>10000036</td>\n",
       "      <td>Boron nitride nanotubes (BNNTs), boron nitride...</td>\n",
       "    </tr>\n",
       "    <tr>\n",
       "      <th>35</th>\n",
       "      <td>10000037</td>\n",
       "      <td>The purpose of the present invention is to pre...</td>\n",
       "    </tr>\n",
       "    <tr>\n",
       "      <th>36</th>\n",
       "      <td>10000038</td>\n",
       "      <td>Provided is an alloy plate coated material inc...</td>\n",
       "    </tr>\n",
       "    <tr>\n",
       "      <th>37</th>\n",
       "      <td>10000039</td>\n",
       "      <td>A multilayer interlayer structure having a low...</td>\n",
       "    </tr>\n",
       "    <tr>\n",
       "      <th>38</th>\n",
       "      <td>10000040</td>\n",
       "      <td>Floor panel of the type substantially consisti...</td>\n",
       "    </tr>\n",
       "    <tr>\n",
       "      <th>39</th>\n",
       "      <td>10000041</td>\n",
       "      <td>A method for making a decorative multilaminar ...</td>\n",
       "    </tr>\n",
       "    <tr>\n",
       "      <th>40</th>\n",
       "      <td>10000042</td>\n",
       "      <td>The current disclosure relates to a polymeric ...</td>\n",
       "    </tr>\n",
       "    <tr>\n",
       "      <th>41</th>\n",
       "      <td>10000043</td>\n",
       "      <td>Multilayer film comprising two thin layers D a...</td>\n",
       "    </tr>\n",
       "    <tr>\n",
       "      <th>42</th>\n",
       "      <td>10000044</td>\n",
       "      <td>Panel, particularly a panel used for making fu...</td>\n",
       "    </tr>\n",
       "    <tr>\n",
       "      <th>43</th>\n",
       "      <td>10000045</td>\n",
       "      <td>A multilayered tube for transporting fuel incl...</td>\n",
       "    </tr>\n",
       "    <tr>\n",
       "      <th>44</th>\n",
       "      <td>10000046</td>\n",
       "      <td>Methods of creating thick composite structures...</td>\n",
       "    </tr>\n",
       "    <tr>\n",
       "      <th>45</th>\n",
       "      <td>10000047</td>\n",
       "      <td>The present invention provides a method for ma...</td>\n",
       "    </tr>\n",
       "    <tr>\n",
       "      <th>46</th>\n",
       "      <td>10000048</td>\n",
       "      <td>A taping apparatus includes an elongate body p...</td>\n",
       "    </tr>\n",
       "    <tr>\n",
       "      <th>47</th>\n",
       "      <td>10000049</td>\n",
       "      <td>An applicator die for creating and applying la...</td>\n",
       "    </tr>\n",
       "    <tr>\n",
       "      <th>48</th>\n",
       "      <td>10000050</td>\n",
       "      <td>A method for the manufacture of a fiber compos...</td>\n",
       "    </tr>\n",
       "    <tr>\n",
       "      <th>49</th>\n",
       "      <td>10000051</td>\n",
       "      <td>A method of manufacturing a three-dimensional ...</td>\n",
       "    </tr>\n",
       "  </tbody>\n",
       "</table>\n",
       "</div>"
      ]
     },
     "execution_count": 246,
     "metadata": {},
     "output_type": "execute_result"
    }
   ],
   "execution_count": 246
  },
  {
   "metadata": {
    "ExecuteTime": {
     "end_time": "2024-12-18T00:21:06.219270Z",
     "start_time": "2024-12-18T00:21:06.190584Z"
    }
   },
   "cell_type": "code",
   "source": "df1.info()",
   "id": "fc49759cc5a891a5",
   "outputs": [
    {
     "name": "stdout",
     "output_type": "stream",
     "text": [
      "<class 'pandas.core.frame.DataFrame'>\n",
      "Index: 8177824 entries, 0 to 8979620\n",
      "Data columns (total 2 columns):\n",
      " #   Column           Dtype \n",
      "---  ------           ----- \n",
      " 0   patent_id        object\n",
      " 1   patent_abstract  object\n",
      "dtypes: object(2)\n",
      "memory usage: 187.2+ MB\n"
     ]
    }
   ],
   "execution_count": 247
  },
  {
   "metadata": {
    "ExecuteTime": {
     "end_time": "2024-12-18T00:21:06.826651Z",
     "start_time": "2024-12-18T00:21:06.287684Z"
    }
   },
   "cell_type": "code",
   "source": "df1[df1[\"patent_id\"] == \"10000000\"]",
   "id": "af76c7f1b1a467a8",
   "outputs": [
    {
     "data": {
      "text/plain": [
       "  patent_id                                    patent_abstract\n",
       "0  10000000  A frequency modulated (coherent) laser detecti..."
      ],
      "text/html": [
       "<div>\n",
       "<style scoped>\n",
       "    .dataframe tbody tr th:only-of-type {\n",
       "        vertical-align: middle;\n",
       "    }\n",
       "\n",
       "    .dataframe tbody tr th {\n",
       "        vertical-align: top;\n",
       "    }\n",
       "\n",
       "    .dataframe thead th {\n",
       "        text-align: right;\n",
       "    }\n",
       "</style>\n",
       "<table border=\"1\" class=\"dataframe\">\n",
       "  <thead>\n",
       "    <tr style=\"text-align: right;\">\n",
       "      <th></th>\n",
       "      <th>patent_id</th>\n",
       "      <th>patent_abstract</th>\n",
       "    </tr>\n",
       "  </thead>\n",
       "  <tbody>\n",
       "    <tr>\n",
       "      <th>0</th>\n",
       "      <td>10000000</td>\n",
       "      <td>A frequency modulated (coherent) laser detecti...</td>\n",
       "    </tr>\n",
       "  </tbody>\n",
       "</table>\n",
       "</div>"
      ]
     },
     "execution_count": 248,
     "metadata": {},
     "output_type": "execute_result"
    }
   ],
   "execution_count": 248
  },
  {
   "metadata": {
    "ExecuteTime": {
     "end_time": "2024-12-18T00:21:08.968439Z",
     "start_time": "2024-12-18T00:21:07.630633Z"
    }
   },
   "cell_type": "code",
   "source": "df2[df2[\"patent_id\"] == \"10000000\"]",
   "id": "4a08f3587010e3ee",
   "outputs": [
    {
     "data": {
      "text/plain": [
       "         patent_id section\n",
       "1982063   10000000       G\n",
       "3878635   10000000       G\n",
       "5536326   10000000       G\n",
       "19037437  10000000       G"
      ],
      "text/html": [
       "<div>\n",
       "<style scoped>\n",
       "    .dataframe tbody tr th:only-of-type {\n",
       "        vertical-align: middle;\n",
       "    }\n",
       "\n",
       "    .dataframe tbody tr th {\n",
       "        vertical-align: top;\n",
       "    }\n",
       "\n",
       "    .dataframe thead th {\n",
       "        text-align: right;\n",
       "    }\n",
       "</style>\n",
       "<table border=\"1\" class=\"dataframe\">\n",
       "  <thead>\n",
       "    <tr style=\"text-align: right;\">\n",
       "      <th></th>\n",
       "      <th>patent_id</th>\n",
       "      <th>section</th>\n",
       "    </tr>\n",
       "  </thead>\n",
       "  <tbody>\n",
       "    <tr>\n",
       "      <th>1982063</th>\n",
       "      <td>10000000</td>\n",
       "      <td>G</td>\n",
       "    </tr>\n",
       "    <tr>\n",
       "      <th>3878635</th>\n",
       "      <td>10000000</td>\n",
       "      <td>G</td>\n",
       "    </tr>\n",
       "    <tr>\n",
       "      <th>5536326</th>\n",
       "      <td>10000000</td>\n",
       "      <td>G</td>\n",
       "    </tr>\n",
       "    <tr>\n",
       "      <th>19037437</th>\n",
       "      <td>10000000</td>\n",
       "      <td>G</td>\n",
       "    </tr>\n",
       "  </tbody>\n",
       "</table>\n",
       "</div>"
      ]
     },
     "execution_count": 249,
     "metadata": {},
     "output_type": "execute_result"
    }
   ],
   "execution_count": 249
  },
  {
   "metadata": {
    "ExecuteTime": {
     "end_time": "2024-12-18T00:21:23.401059Z",
     "start_time": "2024-12-18T00:21:09.919527Z"
    }
   },
   "cell_type": "code",
   "source": [
    "print(df1.duplicated(subset=\"patent_id\").sum())  # Check duplicate patent_ids in df1\n",
    "print(df2.duplicated(subset=\"patent_id\").sum())  # Check duplicate patent_ids in df2 \n",
    "# many duplicate patent ids in ipc at issue file (15431190)"
   ],
   "id": "b8b4b2ef43ee6c8a",
   "outputs": [
    {
     "name": "stdout",
     "output_type": "stream",
     "text": [
      "0\n",
      "15431190\n"
     ]
    }
   ],
   "execution_count": 250
  },
  {
   "metadata": {
    "ExecuteTime": {
     "end_time": "2024-12-18T00:22:56.987921Z",
     "start_time": "2024-12-18T00:21:23.448931Z"
    }
   },
   "cell_type": "code",
   "source": [
    "# Check if the duplicates mean that some patents are classed with multiple sections\n",
    "sections_per_patent = df2.groupby(\"patent_id\").size()\n",
    "print(sections_per_patent.describe())  # Summary statistics\n"
   ],
   "id": "c42ce3ac6c799948",
   "outputs": [
    {
     "name": "stdout",
     "output_type": "stream",
     "text": [
      "count    8.330295e+06\n",
      "mean     2.852418e+00\n",
      "std      2.957512e+00\n",
      "min      1.000000e+00\n",
      "25%      1.000000e+00\n",
      "50%      2.000000e+00\n",
      "75%      4.000000e+00\n",
      "max      2.110000e+02\n",
      "dtype: float64\n"
     ]
    }
   ],
   "execution_count": 251
  },
  {
   "metadata": {},
   "cell_type": "markdown",
   "source": [
    "_Chat gpt_\n",
    "#### Statistics:\n",
    "\n",
    "* Count: 8.33 million of unique patent IDs in df2\n",
    "\n",
    "* Mean (2.85): On average, each patent ID is associated with approximately 2.85 entries (sections).\n",
    "\n",
    "* Standard Deviation (2.96): Indicates variability; some patents have significantly more sections associated with them than others.\n",
    "\n",
    "* Quartiles:\n",
    "        25% (1): 25% of patents are linked to only one section.\n",
    "        50% (2): 50% of patents are linked to two or fewer sections (median).\n",
    "        75% (4): 75% of patents are linked to four or fewer sections.\n",
    "        This shows that most patents have a small number of sections.\n",
    "\n",
    "* Maximum (211):\n",
    "        The patent with the most sections is associated with 211 entries. This could indicate a special case or potential noise."
   ],
   "id": "da77eb7295234d29"
  },
  {
   "metadata": {
    "ExecuteTime": {
     "end_time": "2024-12-18T00:22:57.034732Z",
     "start_time": "2024-12-18T00:22:57.017612Z"
    }
   },
   "cell_type": "code",
   "source": [
    "#ipc_sections = df2[\"section\"].unique()\n",
    "\n",
    "#print(f\"Sections:\")\n",
    "#for i in ipc_sections:\n",
    "#    print(i)"
   ],
   "id": "63038870c9ac9068",
   "outputs": [],
   "execution_count": 252
  },
  {
   "metadata": {
    "ExecuteTime": {
     "end_time": "2024-12-18T00:22:57.095786Z",
     "start_time": "2024-12-18T00:22:57.081903Z"
    }
   },
   "cell_type": "code",
   "source": [
    "#ipc_sections.sort()\n",
    "#print(ipc_sections)"
   ],
   "id": "9d4b3cd0f57c82d4",
   "outputs": [],
   "execution_count": 253
  },
  {
   "metadata": {
    "ExecuteTime": {
     "end_time": "2024-12-18T00:22:57.142665Z",
     "start_time": "2024-12-18T00:22:57.128702Z"
    }
   },
   "cell_type": "code",
   "source": [
    "# Look at all patent with a section class of 0\n",
    "#df2[df2[\"section\"] == \"0\"]"
   ],
   "id": "80583a63753631f5",
   "outputs": [],
   "execution_count": 254
  },
  {
   "metadata": {
    "ExecuteTime": {
     "end_time": "2024-12-18T00:22:57.187643Z",
     "start_time": "2024-12-18T00:22:57.174574Z"
    }
   },
   "cell_type": "code",
   "source": "#print(type(df2))\n",
   "id": "78c51a50ca869d18",
   "outputs": [],
   "execution_count": 255
  },
  {
   "metadata": {
    "ExecuteTime": {
     "end_time": "2024-12-18T00:22:57.249559Z",
     "start_time": "2024-12-18T00:22:57.238488Z"
    }
   },
   "cell_type": "code",
   "source": [
    "# Define sections known and focused on\n",
    "#ipc_sections_main = [\"A\", \"B\", \"C\", \"D\", \"E\", \"F\", \"G\", \"H\"]"
   ],
   "id": "58ed685a496f6884",
   "outputs": [],
   "execution_count": 256
  },
  {
   "metadata": {
    "ExecuteTime": {
     "end_time": "2024-12-18T00:23:04.081318Z",
     "start_time": "2024-12-18T00:22:57.283457Z"
    }
   },
   "cell_type": "code",
   "source": [
    "# select all data with the section classes A-H\n",
    "filtered_df2 = df2[df2[\"section\"].isin(ipc_sections_main)]\n",
    "print(filtered_df2.shape)"
   ],
   "id": "63209ed886d1f504",
   "outputs": [
    {
     "name": "stdout",
     "output_type": "stream",
     "text": [
      "(23760193, 2)\n"
     ]
    }
   ],
   "execution_count": 257
  },
  {
   "metadata": {
    "ExecuteTime": {
     "end_time": "2024-12-18T00:23:04.128430Z",
     "start_time": "2024-12-18T00:23:04.115199Z"
    }
   },
   "cell_type": "code",
   "source": [
    "# Filter out sections \"A\" to \"H\" such that I end up with a list of section classes to remove from the data\n",
    "#unknown_sections = [section for section in ipc_sections if section not in ipc_sections_main]\n",
    "#print(unknown_sections)\n"
   ],
   "id": "7b2a3f12ef298031",
   "outputs": [],
   "execution_count": 258
  },
  {
   "metadata": {
    "ExecuteTime": {
     "end_time": "2024-12-18T00:23:04.862207Z",
     "start_time": "2024-12-18T00:23:04.162941Z"
    }
   },
   "cell_type": "code",
   "source": [
    "# Verify that only the A-H sectors are in the data now\n",
    "ipc_sections = filtered_df2[\"section\"].unique()\n",
    "ipc_sections.sort()\n",
    "\n",
    "print(f\"Sections:\")\n",
    "for i in ipc_sections:\n",
    "    print(i)"
   ],
   "id": "1f4ae53a37e1291e",
   "outputs": [
    {
     "name": "stdout",
     "output_type": "stream",
     "text": [
      "Sections:\n",
      "A\n",
      "B\n",
      "C\n",
      "D\n",
      "E\n",
      "F\n",
      "G\n",
      "H\n"
     ]
    }
   ],
   "execution_count": 259
  },
  {
   "metadata": {},
   "cell_type": "markdown",
   "source": "## Take subset of data",
   "id": "af6fc1fae1d6556f"
  },
  {
   "metadata": {
    "ExecuteTime": {
     "end_time": "2024-12-18T00:23:21.597011Z",
     "start_time": "2024-12-18T00:23:04.961435Z"
    }
   },
   "cell_type": "code",
   "source": [
    "# Take a random subset with determined fraction\n",
    "df1_subset = df1.sample(frac=0.001, random_state=101)\n",
    "\n",
    "# Check the shape of your subset\n",
    "print(df1_subset.shape)\n"
   ],
   "id": "489152c8a4f1aa42",
   "outputs": [
    {
     "name": "stdout",
     "output_type": "stream",
     "text": [
      "(8178, 2)\n"
     ]
    }
   ],
   "execution_count": 260
  },
  {
   "metadata": {
    "ExecuteTime": {
     "end_time": "2024-12-18T00:23:22.155696Z",
     "start_time": "2024-12-18T00:23:21.673999Z"
    }
   },
   "cell_type": "code",
   "source": [
    "# Remove duplicates based on all columns (patent_id and section)\n",
    "print(df1_subset.shape)\n",
    "df1_subset = df1_subset.drop_duplicates(keep='first')\n",
    "print(df1_subset.shape)"
   ],
   "id": "8fce102b0a5db120",
   "outputs": [
    {
     "name": "stdout",
     "output_type": "stream",
     "text": [
      "(8178, 2)\n",
      "(8178, 2)\n"
     ]
    }
   ],
   "execution_count": 261
  },
  {
   "metadata": {
    "ExecuteTime": {
     "end_time": "2024-12-18T00:23:24.617716Z",
     "start_time": "2024-12-18T00:23:22.188610Z"
    }
   },
   "cell_type": "code",
   "source": [
    "# Filter out all the rows with respect to patents not in the abstract dataframe (df1)\n",
    "df2_subset = filtered_df2[\n",
    "    filtered_df2['patent_id'].isin(df1_subset['patent_id']) &   # all patent ids in the subset of df1\n",
    "    filtered_df2['section'].isin(ipc_sections_main) # which also have one of the 8 labels in ipc_sections_main (A-H) \n",
    "]\n",
    "# Check the first few rows of the filtered DataFrame\n",
    "print(df2_subset.head())\n",
    "\n",
    "# You can also check the shape of the filtered DataFrame to see how many rows/columns you got\n",
    "print(df2_subset.shape)\n"
   ],
   "id": "3846042d6819cac4",
   "outputs": [
    {
     "name": "stdout",
     "output_type": "stream",
     "text": [
      "     patent_id section\n",
      "1107  11480947       G\n",
      "2366  10337293       E\n",
      "2879  11671947       H\n",
      "3011   8294150       H\n",
      "4458   4736251       H\n",
      "(23845, 2)\n"
     ]
    }
   ],
   "execution_count": 262
  },
  {
   "metadata": {
    "ExecuteTime": {
     "end_time": "2024-12-18T00:23:24.726218Z",
     "start_time": "2024-12-18T00:23:24.649603Z"
    }
   },
   "cell_type": "code",
   "source": [
    "# Get unique rows in df2_subset\n",
    "unique_rows = df2_subset.drop_duplicates()\n",
    "\n",
    "# Print the number of unique rows\n",
    "print(len(unique_rows))\n"
   ],
   "id": "944d79038847c9dd",
   "outputs": [
    {
     "name": "stdout",
     "output_type": "stream",
     "text": [
      "10073\n"
     ]
    }
   ],
   "execution_count": 263
  },
  {
   "metadata": {
    "ExecuteTime": {
     "end_time": "2024-12-18T00:23:24.790070Z",
     "start_time": "2024-12-18T00:23:24.776082Z"
    }
   },
   "cell_type": "code",
   "source": [
    "# Verify that only the A-H classes are left in the dataset\n",
    "ipc_sections = df2_subset[\"section\"].unique()\n",
    "ipc_sections.sort()\n",
    "\n",
    "print(f\"Sections:\")\n",
    "for i in ipc_sections:\n",
    "    print(i)"
   ],
   "id": "85e2abb881d1b270",
   "outputs": [
    {
     "name": "stdout",
     "output_type": "stream",
     "text": [
      "Sections:\n",
      "A\n",
      "B\n",
      "C\n",
      "D\n",
      "E\n",
      "F\n",
      "G\n",
      "H\n"
     ]
    }
   ],
   "execution_count": 264
  },
  {
   "metadata": {
    "ExecuteTime": {
     "end_time": "2024-12-18T00:23:24.867147Z",
     "start_time": "2024-12-18T00:23:24.827211Z"
    }
   },
   "cell_type": "code",
   "source": [
    "# Remove duplicates based on all columns (patent_id and section)\n",
    "# very important step since there might be duplicates where the same patent has the same main section class, but given different subclasses and therefore shows up multiple times\n",
    "# combination of patent_id and section isn't unique\n",
    "df2_subset = df2_subset.drop_duplicates(keep='first')\n",
    "\n",
    "# Optionally, check the cleaned dataframe\n",
    "print(df2_subset.head())\n",
    "print(df2_subset.shape)"
   ],
   "id": "ecc0fb45468cde29",
   "outputs": [
    {
     "name": "stdout",
     "output_type": "stream",
     "text": [
      "     patent_id section\n",
      "1107  11480947       G\n",
      "2366  10337293       E\n",
      "2879  11671947       H\n",
      "3011   8294150       H\n",
      "4458   4736251       H\n",
      "(10073, 2)\n"
     ]
    }
   ],
   "execution_count": 265
  },
  {
   "metadata": {},
   "cell_type": "markdown",
   "source": [
    "## One-Hot Encode Section Classes - really its multi-hot encoding\n",
    "A patent will have a binary vector for sections, where each section index is assigned a 1 if the patent is associated with that section, and a 0 if it is not."
   ],
   "id": "1c1ce75088ac402f"
  },
  {
   "metadata": {
    "ExecuteTime": {
     "end_time": "2024-12-18T00:23:25.647149Z",
     "start_time": "2024-12-18T00:23:24.900085Z"
    }
   },
   "cell_type": "code",
   "source": [
    "# Create one-hot encoding using get_dummies\n",
    "one_hot_df = pd.get_dummies(df2_subset, columns=['section'], prefix='', prefix_sep='')\n",
    "print(one_hot_df.shape)\n",
    "print(one_hot_df[:10])\n",
    "\n",
    "# Group by patent_id and sum the dummy columns to get the multiple-hot encoding\n",
    "one_hot_df = one_hot_df.groupby('patent_id', as_index=False).sum()  # as_index=False is VERY important. Patent_id will become index and not considered uique values when checking for duplicates\n",
    "\n",
    "# View the resulting one-hot encoded DataFrame\n",
    "print(one_hot_df)\n",
    "print(one_hot_df.shape)"
   ],
   "id": "8faf3ccf9a8615a5",
   "outputs": [
    {
     "name": "stdout",
     "output_type": "stream",
     "text": [
      "(10073, 9)\n",
      "     patent_id      A      B      C      D      E      F      G      H\n",
      "1107  11480947  False  False  False  False  False  False   True  False\n",
      "2366  10337293  False  False  False  False   True  False  False  False\n",
      "2879  11671947  False  False  False  False  False  False  False   True\n",
      "3011   8294150  False  False  False  False  False  False  False   True\n",
      "4458   4736251  False  False  False  False  False  False  False   True\n",
      "5592  11782756  False  False  False  False  False  False   True  False\n",
      "5719   7237787  False   True  False  False  False  False  False  False\n",
      "6799   7133578  False  False  False  False  False  False   True  False\n",
      "7865   4948859  False  False   True  False  False  False  False  False\n",
      "9166  11810315  False  False  False  False  False  False   True  False\n",
      "     patent_id  A  B  C  D  E  F  G  H\n",
      "0     10000379  0  0  1  0  0  0  0  0\n",
      "1     10001403  0  0  0  0  0  0  1  0\n",
      "2     10002404  0  0  0  0  0  0  1  0\n",
      "3     10002897  0  0  0  0  0  0  0  1\n",
      "4     10003740  0  0  0  0  0  0  1  1\n",
      "...        ... .. .. .. .. .. .. .. ..\n",
      "8170   RE44638  1  0  0  0  0  0  0  0\n",
      "8171   RE45506  0  0  0  0  0  0  0  1\n",
      "8172   RE46347  0  0  0  0  0  0  1  0\n",
      "8173   RE46699  1  0  0  0  0  0  0  1\n",
      "8174   RE48208  0  0  0  0  0  0  1  0\n",
      "\n",
      "[8175 rows x 9 columns]\n",
      "(8175, 9)\n"
     ]
    }
   ],
   "execution_count": 266
  },
  {
   "metadata": {
    "ExecuteTime": {
     "end_time": "2024-12-18T00:23:25.709399Z",
     "start_time": "2024-12-18T00:23:25.680093Z"
    }
   },
   "cell_type": "code",
   "source": [
    "# Check for missing values (NaN) in the dataframe\n",
    "missing_values = one_hot_df.isna().sum()\n",
    "\n",
    "print(\"Missing values per column:\")\n",
    "print(missing_values)\n",
    "\n",
    "# If you want to see rows with missing values\n",
    "print(\"\\nRows with missing values:\")\n",
    "print(one_hot_df[one_hot_df.isna().any(axis=1)])\n",
    "\n",
    "# Remove rows with any missing entries (optional after checking)\n",
    "#merged_df = merged_df.dropna()"
   ],
   "id": "49b5db50145f45db",
   "outputs": [
    {
     "name": "stdout",
     "output_type": "stream",
     "text": [
      "Missing values per column:\n",
      "patent_id    0\n",
      "A            0\n",
      "B            0\n",
      "C            0\n",
      "D            0\n",
      "E            0\n",
      "F            0\n",
      "G            0\n",
      "H            0\n",
      "dtype: int64\n",
      "\n",
      "Rows with missing values:\n",
      "Empty DataFrame\n",
      "Columns: [patent_id, A, B, C, D, E, F, G, H]\n",
      "Index: []\n"
     ]
    }
   ],
   "execution_count": 267
  },
  {
   "metadata": {
    "ExecuteTime": {
     "end_time": "2024-12-18T00:23:25.802385Z",
     "start_time": "2024-12-18T00:23:25.742460Z"
    }
   },
   "cell_type": "code",
   "source": [
    "# Check for duplicates - none should be found\n",
    "print(one_hot_df.shape)\n",
    "one_hot_df = one_hot_df.drop_duplicates(keep='first')\n",
    "print(one_hot_df.shape)"
   ],
   "id": "b0efc8ab64884a81",
   "outputs": [
    {
     "name": "stdout",
     "output_type": "stream",
     "text": [
      "(8175, 9)\n",
      "(8175, 9)\n"
     ]
    }
   ],
   "execution_count": 268
  },
  {
   "metadata": {
    "ExecuteTime": {
     "end_time": "2024-12-18T00:23:25.864Z",
     "start_time": "2024-12-18T00:23:25.849450Z"
    }
   },
   "cell_type": "code",
   "source": "one_hot_df.head(10)",
   "id": "b3e07e2e0b2ae6e2",
   "outputs": [
    {
     "data": {
      "text/plain": [
       "  patent_id  A  B  C  D  E  F  G  H\n",
       "0  10000379  0  0  1  0  0  0  0  0\n",
       "1  10001403  0  0  0  0  0  0  1  0\n",
       "2  10002404  0  0  0  0  0  0  1  0\n",
       "3  10002897  0  0  0  0  0  0  0  1\n",
       "4  10003740  0  0  0  0  0  0  1  1\n",
       "5  10004066  0  0  0  0  0  0  0  1\n",
       "6  10004246  1  0  0  0  0  0  0  0\n",
       "7  10006614  0  1  0  0  0  1  0  0\n",
       "8  10008125  0  0  0  0  0  0  1  1\n",
       "9  10008416  0  0  0  0  0  0  0  1"
      ],
      "text/html": [
       "<div>\n",
       "<style scoped>\n",
       "    .dataframe tbody tr th:only-of-type {\n",
       "        vertical-align: middle;\n",
       "    }\n",
       "\n",
       "    .dataframe tbody tr th {\n",
       "        vertical-align: top;\n",
       "    }\n",
       "\n",
       "    .dataframe thead th {\n",
       "        text-align: right;\n",
       "    }\n",
       "</style>\n",
       "<table border=\"1\" class=\"dataframe\">\n",
       "  <thead>\n",
       "    <tr style=\"text-align: right;\">\n",
       "      <th></th>\n",
       "      <th>patent_id</th>\n",
       "      <th>A</th>\n",
       "      <th>B</th>\n",
       "      <th>C</th>\n",
       "      <th>D</th>\n",
       "      <th>E</th>\n",
       "      <th>F</th>\n",
       "      <th>G</th>\n",
       "      <th>H</th>\n",
       "    </tr>\n",
       "  </thead>\n",
       "  <tbody>\n",
       "    <tr>\n",
       "      <th>0</th>\n",
       "      <td>10000379</td>\n",
       "      <td>0</td>\n",
       "      <td>0</td>\n",
       "      <td>1</td>\n",
       "      <td>0</td>\n",
       "      <td>0</td>\n",
       "      <td>0</td>\n",
       "      <td>0</td>\n",
       "      <td>0</td>\n",
       "    </tr>\n",
       "    <tr>\n",
       "      <th>1</th>\n",
       "      <td>10001403</td>\n",
       "      <td>0</td>\n",
       "      <td>0</td>\n",
       "      <td>0</td>\n",
       "      <td>0</td>\n",
       "      <td>0</td>\n",
       "      <td>0</td>\n",
       "      <td>1</td>\n",
       "      <td>0</td>\n",
       "    </tr>\n",
       "    <tr>\n",
       "      <th>2</th>\n",
       "      <td>10002404</td>\n",
       "      <td>0</td>\n",
       "      <td>0</td>\n",
       "      <td>0</td>\n",
       "      <td>0</td>\n",
       "      <td>0</td>\n",
       "      <td>0</td>\n",
       "      <td>1</td>\n",
       "      <td>0</td>\n",
       "    </tr>\n",
       "    <tr>\n",
       "      <th>3</th>\n",
       "      <td>10002897</td>\n",
       "      <td>0</td>\n",
       "      <td>0</td>\n",
       "      <td>0</td>\n",
       "      <td>0</td>\n",
       "      <td>0</td>\n",
       "      <td>0</td>\n",
       "      <td>0</td>\n",
       "      <td>1</td>\n",
       "    </tr>\n",
       "    <tr>\n",
       "      <th>4</th>\n",
       "      <td>10003740</td>\n",
       "      <td>0</td>\n",
       "      <td>0</td>\n",
       "      <td>0</td>\n",
       "      <td>0</td>\n",
       "      <td>0</td>\n",
       "      <td>0</td>\n",
       "      <td>1</td>\n",
       "      <td>1</td>\n",
       "    </tr>\n",
       "    <tr>\n",
       "      <th>5</th>\n",
       "      <td>10004066</td>\n",
       "      <td>0</td>\n",
       "      <td>0</td>\n",
       "      <td>0</td>\n",
       "      <td>0</td>\n",
       "      <td>0</td>\n",
       "      <td>0</td>\n",
       "      <td>0</td>\n",
       "      <td>1</td>\n",
       "    </tr>\n",
       "    <tr>\n",
       "      <th>6</th>\n",
       "      <td>10004246</td>\n",
       "      <td>1</td>\n",
       "      <td>0</td>\n",
       "      <td>0</td>\n",
       "      <td>0</td>\n",
       "      <td>0</td>\n",
       "      <td>0</td>\n",
       "      <td>0</td>\n",
       "      <td>0</td>\n",
       "    </tr>\n",
       "    <tr>\n",
       "      <th>7</th>\n",
       "      <td>10006614</td>\n",
       "      <td>0</td>\n",
       "      <td>1</td>\n",
       "      <td>0</td>\n",
       "      <td>0</td>\n",
       "      <td>0</td>\n",
       "      <td>1</td>\n",
       "      <td>0</td>\n",
       "      <td>0</td>\n",
       "    </tr>\n",
       "    <tr>\n",
       "      <th>8</th>\n",
       "      <td>10008125</td>\n",
       "      <td>0</td>\n",
       "      <td>0</td>\n",
       "      <td>0</td>\n",
       "      <td>0</td>\n",
       "      <td>0</td>\n",
       "      <td>0</td>\n",
       "      <td>1</td>\n",
       "      <td>1</td>\n",
       "    </tr>\n",
       "    <tr>\n",
       "      <th>9</th>\n",
       "      <td>10008416</td>\n",
       "      <td>0</td>\n",
       "      <td>0</td>\n",
       "      <td>0</td>\n",
       "      <td>0</td>\n",
       "      <td>0</td>\n",
       "      <td>0</td>\n",
       "      <td>0</td>\n",
       "      <td>1</td>\n",
       "    </tr>\n",
       "  </tbody>\n",
       "</table>\n",
       "</div>"
      ]
     },
     "execution_count": 269,
     "metadata": {},
     "output_type": "execute_result"
    }
   ],
   "execution_count": 269
  },
  {
   "metadata": {},
   "cell_type": "markdown",
   "source": "## Merge dataframe with abstract and dataframe with section classes",
   "id": "a3ce47f70cf483b9"
  },
  {
   "metadata": {
    "ExecuteTime": {
     "end_time": "2024-12-18T00:23:25.972872Z",
     "start_time": "2024-12-18T00:23:25.958910Z"
    }
   },
   "cell_type": "code",
   "source": "print(df1_subset.shape)",
   "id": "3a770f4c3741036f",
   "outputs": [
    {
     "name": "stdout",
     "output_type": "stream",
     "text": [
      "(8178, 2)\n"
     ]
    }
   ],
   "execution_count": 270
  },
  {
   "metadata": {
    "ExecuteTime": {
     "end_time": "2024-12-18T00:23:26.051122Z",
     "start_time": "2024-12-18T00:23:26.040131Z"
    }
   },
   "cell_type": "code",
   "source": "print(one_hot_df.shape)",
   "id": "7671119b9b3335de",
   "outputs": [
    {
     "name": "stdout",
     "output_type": "stream",
     "text": [
      "(8175, 9)\n"
     ]
    }
   ],
   "execution_count": 271
  },
  {
   "metadata": {
    "ExecuteTime": {
     "end_time": "2024-12-18T00:23:26.981036Z",
     "start_time": "2024-12-18T00:23:26.146604Z"
    }
   },
   "cell_type": "code",
   "source": [
    "\n",
    "# Merge one-hot-encoded sections with abstracts\n",
    "merged_df = pd.merge(df1_subset, one_hot_df, on=\"patent_id\", how=\"inner\")   # inner merge makes sure only to take patents which both has section class AND an abstract\n",
    "\n",
    "# Sort the merged dataframe by patent_id\n",
    "merged_df = merged_df.sort_values(by=\"patent_id\", ascending=True)\n",
    "\n",
    "# Remove duplicates based on all columns (patent_id and section)\n",
    "merged_df = merged_df.drop_duplicates(keep='first')\n",
    "\n",
    "# Reset the index after sorting (if you want a clean index)\n",
    "merged_df.reset_index(drop=True, inplace=True)\n",
    "\n",
    "print(merged_df.head(10))\n",
    "print(merged_df.shape)\n"
   ],
   "id": "5e484fda58df1dd9",
   "outputs": [
    {
     "name": "stdout",
     "output_type": "stream",
     "text": [
      "  patent_id                                    patent_abstract  A  B  C  D  E  \\\n",
      "0  10000379  The invention is directed to a process for the...  0  0  1  0  0   \n",
      "1  10001403  This invention relates to a system including a...  0  0  0  0  0   \n",
      "2  10002404  A graphics processing unit (GPU) includes prog...  0  0  0  0  0   \n",
      "3  10002897  Provided is a solid-state imaging device inclu...  0  0  0  0  0   \n",
      "4  10003740  The present disclosure involves systems, softw...  0  0  0  0  0   \n",
      "5  10004066  To handle different Quality of Service (QoS) r...  0  0  0  0  0   \n",
      "6  10004246  Disclosed are hydrated fat compositions compri...  1  0  0  0  0   \n",
      "7  10006614  A lighting device includes a primary housing h...  0  1  0  0  0   \n",
      "8  10008125  Multi-user portable electronic devices for imp...  0  0  0  0  0   \n",
      "9  10008416  A gate structure is formed over a substrate. T...  0  0  0  0  0   \n",
      "\n",
      "   F  G  H  \n",
      "0  0  0  0  \n",
      "1  0  1  0  \n",
      "2  0  1  0  \n",
      "3  0  0  1  \n",
      "4  0  1  1  \n",
      "5  0  0  1  \n",
      "6  0  0  0  \n",
      "7  1  0  0  \n",
      "8  0  1  1  \n",
      "9  0  0  1  \n",
      "(8175, 10)\n"
     ]
    }
   ],
   "execution_count": 272
  },
  {
   "metadata": {
    "ExecuteTime": {
     "end_time": "2024-12-18T00:23:27.027908Z",
     "start_time": "2024-12-18T00:23:26.987021Z"
    }
   },
   "cell_type": "code",
   "source": [
    "# Check for missing values (NaN) in the dataframe\n",
    "missing_values = merged_df.isna().sum()\n",
    "\n",
    "print(\"Missing values per column:\")\n",
    "print(missing_values)\n",
    "\n",
    "# If you want to see rows with missing values\n",
    "print(\"\\nRows with missing values:\")\n",
    "print(merged_df[merged_df.isna().any(axis=1)])\n",
    "\n",
    "# Remove rows with any missing entries (optional after checking)\n",
    "merged_df = merged_df.dropna()"
   ],
   "id": "7660975a8c50efc3",
   "outputs": [
    {
     "name": "stdout",
     "output_type": "stream",
     "text": [
      "Missing values per column:\n",
      "patent_id          0\n",
      "patent_abstract    0\n",
      "A                  0\n",
      "B                  0\n",
      "C                  0\n",
      "D                  0\n",
      "E                  0\n",
      "F                  0\n",
      "G                  0\n",
      "H                  0\n",
      "dtype: int64\n",
      "\n",
      "Rows with missing values:\n",
      "Empty DataFrame\n",
      "Columns: [patent_id, patent_abstract, A, B, C, D, E, F, G, H]\n",
      "Index: []\n"
     ]
    }
   ],
   "execution_count": 273
  },
  {
   "metadata": {
    "ExecuteTime": {
     "end_time": "2024-12-18T00:23:27.089725Z",
     "start_time": "2024-12-18T00:23:27.060002Z"
    }
   },
   "cell_type": "code",
   "source": [
    "# Merge the columns A-H into a single column 'label_vector' with binary vectors\n",
    "merged_df['label'] = merged_df[['A', 'B', 'C', 'D', 'E', 'F', 'G', 'H']].values.tolist()\n",
    "\n",
    "merged_df['text'] = merged_df['patent_abstract']\n",
    "\n",
    "# Select only the columns you want to keep\n",
    "merged_df = merged_df[['patent_id', 'text', 'label']]\n"
   ],
   "id": "f79ea380faf67881",
   "outputs": [],
   "execution_count": 274
  },
  {
   "metadata": {
    "ExecuteTime": {
     "end_time": "2024-12-18T00:23:27.136056Z",
     "start_time": "2024-12-18T00:23:27.121797Z"
    }
   },
   "cell_type": "code",
   "source": "",
   "id": "383581a816c6c836",
   "outputs": [],
   "execution_count": null
  },
  {
   "metadata": {},
   "cell_type": "markdown",
   "source": "## Save merged data",
   "id": "8d579ff2863cb821"
  },
  {
   "metadata": {
    "ExecuteTime": {
     "end_time": "2024-12-18T00:23:27.198148Z",
     "start_time": "2024-12-18T00:23:27.169444Z"
    }
   },
   "cell_type": "code",
   "source": "merged_df.info()",
   "id": "3f45318834608ec3",
   "outputs": [
    {
     "name": "stdout",
     "output_type": "stream",
     "text": [
      "<class 'pandas.core.frame.DataFrame'>\n",
      "RangeIndex: 8175 entries, 0 to 8174\n",
      "Data columns (total 3 columns):\n",
      " #   Column     Non-Null Count  Dtype \n",
      "---  ------     --------------  ----- \n",
      " 0   patent_id  8175 non-null   object\n",
      " 1   text       8175 non-null   object\n",
      " 2   label      8175 non-null   object\n",
      "dtypes: object(3)\n",
      "memory usage: 191.7+ KB\n"
     ]
    }
   ],
   "execution_count": 275
  },
  {
   "metadata": {
    "ExecuteTime": {
     "end_time": "2024-12-18T00:23:27.652398Z",
     "start_time": "2024-12-18T00:23:27.231059Z"
    }
   },
   "cell_type": "code",
   "source": [
    "# save merged dataframes as a tsv file\n",
    "merged_df.to_csv(\"merged_output_7.tsv\", sep=\"\\t\", index=False)\n"
   ],
   "id": "496464e071e0c097",
   "outputs": [],
   "execution_count": 276
  },
  {
   "metadata": {},
   "cell_type": "code",
   "outputs": [],
   "execution_count": null,
   "source": [
    "# Load data\n",
    "#merged_df_loaded = pd.read_csv(\n",
    "#        \"merged_output_6.tsv\",\n",
    "#        delimiter=\"\\t\",\n",
    "#        dtype=str,  # Use `dtype=str` to avoid erroneous type inference, e.g. inferring `patent_id` as a number rather than a string.\n",
    "#    )\n",
    "\n",
    "# Print the resulting DataFrame\n",
    "#print(merged_df_loaded.head(10))\n",
    "\n",
    "#merged_df_loaded.info()"
   ],
   "id": "70c931cd6dfb7454"
  }
 ],
 "metadata": {
  "kernelspec": {
   "display_name": "Python 3",
   "language": "python",
   "name": "python3"
  },
  "language_info": {
   "codemirror_mode": {
    "name": "ipython",
    "version": 2
   },
   "file_extension": ".py",
   "mimetype": "text/x-python",
   "name": "python",
   "nbconvert_exporter": "python",
   "pygments_lexer": "ipython2",
   "version": "2.7.6"
  }
 },
 "nbformat": 4,
 "nbformat_minor": 5
}
